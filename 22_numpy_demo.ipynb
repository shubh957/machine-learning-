{
 "cells": [
  {
   "cell_type": "code",
   "execution_count": 1,
   "id": "99415138",
   "metadata": {},
   "outputs": [],
   "source": [
    "# Numpy: import numpy liabrary\n",
    "import numpy as np\n"
   ]
  },
  {
   "cell_type": "code",
   "execution_count": 2,
   "id": "faaa4253",
   "metadata": {},
   "outputs": [
    {
     "name": "stdout",
     "output_type": "stream",
     "text": [
      " one dimensional array :\n",
      "[1 2 3 4 5 6]\n",
      " two dimensional array :\n",
      "[[1 2 3]\n",
      " [4 5 6]]\n"
     ]
    }
   ],
   "source": [
    "# array: \n",
    "# one dimensional\n",
    "a=np.array([1,2,3,4,5,6])\n",
    "# two dimensional\n",
    "b=np.array([[1,2,3],[4,5,6]])\n",
    "print(\" one dimensional array :\")\n",
    "print(a)\n",
    "print(\" two dimensional array :\")\n",
    "print(b)"
   ]
  },
  {
   "cell_type": "code",
   "execution_count": 3,
   "id": "c9f74a99",
   "metadata": {},
   "outputs": [
    {
     "name": "stdout",
     "output_type": "stream",
     "text": [
      "shape of c (2, 3)\n"
     ]
    }
   ],
   "source": [
    "# format: the standard binary format\n",
    "# shape\n",
    "c=np.array([[1,2,3],[4,5,6]])\n",
    "print(\"shape of c {}\".format(c.shape))"
   ]
  },
  {
   "cell_type": "code",
   "execution_count": 4,
   "id": "b06a2fb9",
   "metadata": {},
   "outputs": [
    {
     "name": "stdout",
     "output_type": "stream",
     "text": [
      "ndim 2\n"
     ]
    }
   ],
   "source": [
    "# ndim : represents the number of dimensions of the ndarray\n",
    "d=np.array([[1,2,3],[4,5,6]])\n",
    "print(\"ndim {}\".format(d.ndim))"
   ]
  },
  {
   "cell_type": "code",
   "execution_count": 5,
   "id": "39497d4a",
   "metadata": {},
   "outputs": [
    {
     "name": "stdout",
     "output_type": "stream",
     "text": [
      "size 6\n"
     ]
    }
   ],
   "source": [
    "# size : calculate the total elements or values  in the array\n",
    "e=np.array([[1,2,3],[4,5,6]])\n",
    "print(\"size {}\".format(e.size))"
   ]
  },
  {
   "cell_type": "code",
   "execution_count": 6,
   "id": "9b83e8e4",
   "metadata": {},
   "outputs": [
    {
     "name": "stdout",
     "output_type": "stream",
     "text": [
      "dtype int64\n"
     ]
    }
   ],
   "source": [
    "# dtype : describes the bytes in the fixed-size block of memory\n",
    "f=np.array([[1,2,3],[4,5,6]])\n",
    "print(\"dtype {}\".format(f.dtype))"
   ]
  },
  {
   "cell_type": "code",
   "execution_count": 7,
   "id": "2fbcbdb2",
   "metadata": {},
   "outputs": [
    {
     "name": "stdout",
     "output_type": "stream",
     "text": [
      "itemsize 8\n"
     ]
    }
   ],
   "source": [
    "# itemsize: returns the size of each element of  NumPy array\n",
    "g=np.array([[1,2,3],[4,5,6]])\n",
    "print(\"itemsize {}\".format(g.itemsize))"
   ]
  },
  {
   "cell_type": "code",
   "execution_count": 8,
   "id": "3f638de8",
   "metadata": {},
   "outputs": [
    {
     "name": "stdout",
     "output_type": "stream",
     "text": [
      "data <memory at 0x7fa1012bce10>\n"
     ]
    }
   ],
   "source": [
    "# data:\n",
    "h=np.array([[1,2,3],[4,5,6]])\n",
    "print(\"data {}\".format(h.data))"
   ]
  },
  {
   "cell_type": "code",
   "execution_count": 9,
   "id": "0371f245",
   "metadata": {},
   "outputs": [
    {
     "name": "stdout",
     "output_type": "stream",
     "text": [
      "21\n"
     ]
    }
   ],
   "source": [
    "# sum: returns the sum of array elements over the specified axis\n",
    "i=np.array([[1,2,3],[4,5,6]])\n",
    "print(i.sum())"
   ]
  },
  {
   "cell_type": "code",
   "execution_count": 10,
   "id": "944d8a83",
   "metadata": {},
   "outputs": [
    {
     "name": "stdout",
     "output_type": "stream",
     "text": [
      "multiplication :\n",
      "[[16 19]\n",
      " [26 31]]\n"
     ]
    }
   ],
   "source": [
    "# multiplication: multiplication of two array\n",
    "A = [[1, 2], [2, 3]]\n",
    "B = [[4, 5], [6, 7]]\n",
    "mul=np.dot(A,B)\n",
    "print(\"multiplication :\")\n",
    "print(mul)"
   ]
  },
  {
   "cell_type": "code",
   "execution_count": 11,
   "id": "98d31977",
   "metadata": {},
   "outputs": [
    {
     "name": "stdout",
     "output_type": "stream",
     "text": [
      "addition :\n",
      "[[ 5  7]\n",
      " [ 8 10]]\n"
     ]
    }
   ],
   "source": [
    "# addition: performs element wise addition on NumPy arrays\n",
    "j = [[1, 2], [2, 3]]\n",
    "k = [[4, 5], [6, 7]]\n",
    "ad=np.add(j,k)\n",
    "print(\"addition :\")\n",
    "print(ad)"
   ]
  },
  {
   "cell_type": "code",
   "execution_count": 13,
   "id": "7a387587",
   "metadata": {},
   "outputs": [
    {
     "name": "stdout",
     "output_type": "stream",
     "text": [
      "[[1 2 3]\n",
      " [4 5 6]]\n"
     ]
    }
   ],
   "source": [
    "#reshape: changing the shape of an array\n",
    "l=np.array([1,2,3,4,5,6])\n",
    "re=l.reshape(2,3)\n",
    "print(re)"
   ]
  },
  {
   "cell_type": "code",
   "execution_count": 14,
   "id": "c83ad9b3",
   "metadata": {},
   "outputs": [
    {
     "name": "stdout",
     "output_type": "stream",
     "text": [
      "maximum is  6\n"
     ]
    }
   ],
   "source": [
    "# maximum: find the element-wise maximum of array elements\n",
    "a=np.array([1,2,3,4,5,6])\n",
    "print(\"maximum is \",a.max())"
   ]
  },
  {
   "cell_type": "code",
   "execution_count": 15,
   "id": "4a54360c",
   "metadata": {},
   "outputs": [
    {
     "name": "stdout",
     "output_type": "stream",
     "text": [
      "minimum is  1\n"
     ]
    }
   ],
   "source": [
    "# minimum : find the element-wise minimum of array elements\n",
    "a=np.array([1,2,3,4,5,6])\n",
    "print(\"minimum is \",a.min())"
   ]
  },
  {
   "cell_type": "code",
   "execution_count": 16,
   "id": "a28070a2",
   "metadata": {},
   "outputs": [
    {
     "name": "stdout",
     "output_type": "stream",
     "text": [
      "minimum is  [1 2 3]\n"
     ]
    }
   ],
   "source": [
    "# minimum along the axis\n",
    "re=np.array([[1,2,3],[4,5,6]])\n",
    "print(\"minimum is \",re.min(axis=0))"
   ]
  },
  {
   "cell_type": "code",
   "execution_count": 17,
   "id": "15137c5e",
   "metadata": {},
   "outputs": [
    {
     "name": "stdout",
     "output_type": "stream",
     "text": [
      "[[1. 2. 3.]\n",
      " [4. 5. 6.]]\n"
     ]
    }
   ],
   "source": [
    "#square root: calculate the positive square root of a number or the elements of an array\n",
    "re=np.array([[1,4,9],[16,25,36]])\n",
    "print(np.sqrt(re))"
   ]
  },
  {
   "cell_type": "code",
   "execution_count": 18,
   "id": "f5246634",
   "metadata": {},
   "outputs": [
    {
     "name": "stdout",
     "output_type": "stream",
     "text": [
      "standard deviation  12.212243401148248\n"
     ]
    }
   ],
   "source": [
    "# standard deviation : calculates the standard deviation of given data along a specified axis\n",
    "re=np.array([[1,4,9],[16,25,36]])\n",
    "print(\"standard deviation \",np.std(re))"
   ]
  },
  {
   "cell_type": "code",
   "execution_count": 20,
   "id": "50833431",
   "metadata": {},
   "outputs": [
    {
     "name": "stdout",
     "output_type": "stream",
     "text": [
      "vertical :\n",
      "[[1 2]\n",
      " [4 5]\n",
      " [8 7]\n",
      " [5 4]]\n"
     ]
    }
   ],
   "source": [
    "# merging : merge two arrays\n",
    "# vstack : Stack arrays in sequence vertically \n",
    "\n",
    "a=np.array([[1,2],[4,5]])\n",
    "b=np.array([[8,7],[5,4]])\n",
    "v=np.vstack((a,b))\n",
    "print(\"vertical :\")\n",
    "print(v)"
   ]
  },
  {
   "cell_type": "code",
   "execution_count": 21,
   "id": "aa1aa0aa",
   "metadata": {},
   "outputs": [
    {
     "name": "stdout",
     "output_type": "stream",
     "text": [
      "horizontal :\n",
      "[[1 2 8 7]\n",
      " [4 5 5 4]]\n"
     ]
    }
   ],
   "source": [
    "# horizontal : combines a sequence of arrays along their horizontal axis\n",
    "a=np.array([[1,2],[4,5]])\n",
    "b=np.array([[8,7],[5,4]])\n",
    "h=np.hstack((a,b))\n",
    "print(\"horizontal :\")\n",
    "print(h)"
   ]
  },
  {
   "cell_type": "code",
   "execution_count": 22,
   "id": "bb27f32c",
   "metadata": {},
   "outputs": [
    {
     "name": "stdout",
     "output_type": "stream",
     "text": [
      "[ 0  2  4  6  8 10 12 14 16 18]\n"
     ]
    }
   ],
   "source": [
    "# arange : produces an array of sequential numbers within a given interval\n",
    "a=np.arange(0,20,2)\n",
    "print(a)"
   ]
  },
  {
   "cell_type": "code",
   "execution_count": 25,
   "id": "8a2b3d74",
   "metadata": {},
   "outputs": [
    {
     "name": "stdout",
     "output_type": "stream",
     "text": [
      "data type:  float64\n"
     ]
    }
   ],
   "source": [
    "a=np.arange(0,23,5,float)\n",
    "print(\"data type: \",a.dtype)"
   ]
  },
  {
   "cell_type": "code",
   "execution_count": 26,
   "id": "a5ff52b1",
   "metadata": {},
   "outputs": [
    {
     "name": "stdout",
     "output_type": "stream",
     "text": [
      "[ 0.          1.57142857  3.14285714  4.71428571  6.28571429  7.85714286\n",
      "  9.42857143 11.         12.57142857 14.14285714 15.71428571 17.28571429\n",
      " 18.85714286 20.42857143 22.        ]\n",
      "data type:  float64\n"
     ]
    }
   ],
   "source": [
    "# linspace: allows you to create evenly spaced arrays with a specified number of elements\n",
    "a=np.linspace(0,22,15)\n",
    "print(a)\n",
    "print(\"data type: \",a.dtype)"
   ]
  },
  {
   "cell_type": "code",
   "execution_count": 27,
   "id": "5606b06f",
   "metadata": {},
   "outputs": [
    {
     "name": "stdout",
     "output_type": "stream",
     "text": [
      "[[1 4]\n",
      " [2 5]\n",
      " [8 5]\n",
      " [7 4]]\n"
     ]
    }
   ],
   "source": [
    "#transpose: moving the rows data to the column and columns data to the rows\n",
    "a=np.array([[1,2],[4,5]])\n",
    "b=np.array([[8,7],[5,4]])\n",
    "h=np.hstack((a,b))\n",
    "ht=h.T\n",
    "print(ht)"
   ]
  },
  {
   "cell_type": "code",
   "execution_count": 28,
   "id": "870d1211",
   "metadata": {},
   "outputs": [
    {
     "name": "stdout",
     "output_type": "stream",
     "text": [
      "element : 1\n",
      "element : 2\n",
      "element : 8\n",
      "element : 7\n",
      "element : 4\n",
      "element : 5\n",
      "element : 5\n",
      "element : 4\n"
     ]
    }
   ],
   "source": [
    "# nditer :-provides many flexible ways to visit all the elements of one or more arrays in a systematic fashion\n",
    "for i in np.nditer(ht):\n",
    "    print(\"element :\",i)"
   ]
  },
  {
   "cell_type": "code",
   "execution_count": 29,
   "id": "eef446ee",
   "metadata": {},
   "outputs": [
    {
     "name": "stdout",
     "output_type": "stream",
     "text": [
      "[array([[1, 2],\n",
      "       [4, 5]]), array([[8, 7],\n",
      "       [5, 4]])]\n"
     ]
    }
   ],
   "source": [
    "# hsplit: split an array into multiple sub-arrays horizontally (column-wise)\n",
    "a=np.array([[1,2],[4,5]])\n",
    "b=np.array([[8,7],[5,4]])\n",
    "h=np.hstack((a,b))\n",
    "h1=np.hsplit(h,2)\n",
    "print(h1)"
   ]
  },
  {
   "cell_type": "code",
   "execution_count": 30,
   "id": "888c721e",
   "metadata": {},
   "outputs": [
    {
     "name": "stdout",
     "output_type": "stream",
     "text": [
      "[array([[1, 2, 8, 7]]), array([[4, 5, 5, 4]])]\n"
     ]
    }
   ],
   "source": [
    "#vsplit: split an array into multiple sub-arrays vertically (row-wise)\n",
    "a=np.array([[1,2],[4,5]])\n",
    "b=np.array([[8,7],[5,4]])\n",
    "h=np.hstack((a,b))\n",
    "h1=np.vsplit(h,2)\n",
    "print(h1)"
   ]
  },
  {
   "cell_type": "code",
   "execution_count": null,
   "id": "467f3463",
   "metadata": {},
   "outputs": [],
   "source": []
  }
 ],
 "metadata": {
  "kernelspec": {
   "display_name": "Python 3 (ipykernel)",
   "language": "python",
   "name": "python3"
  },
  "language_info": {
   "codemirror_mode": {
    "name": "ipython",
    "version": 3
   },
   "file_extension": ".py",
   "mimetype": "text/x-python",
   "name": "python",
   "nbconvert_exporter": "python",
   "pygments_lexer": "ipython3",
   "version": "3.9.12"
  }
 },
 "nbformat": 4,
 "nbformat_minor": 5
}
